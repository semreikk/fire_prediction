{
  "nbformat": 4,
  "nbformat_minor": 0,
  "metadata": {
    "kernelspec": {
      "display_name": "Python 3",
      "language": "python",
      "name": "python3"
    },
    "language_info": {
      "codemirror_mode": {
        "name": "ipython",
        "version": 3
      },
      "file_extension": ".py",
      "mimetype": "text/x-python",
      "name": "python",
      "nbconvert_exporter": "python",
      "pygments_lexer": "ipython3",
      "version": "3.7.4"
    },
    "colab": {
      "name": "Forest Fire Prediction with XGboost..ipynb",
      "provenance": [],
      "collapsed_sections": [
        "elMqfxgzTqBi",
        "3Vc1JOFBTqBn",
        "32ACBcVbTqBs",
        "ORGcZyWETqBt",
        "amhvgPe-TqBy",
        "_z1PYF4RTqB4",
        "Tq3i5oX5TqB5",
        "LBvDwH8DTqCE",
        "F70TQvucTqCH",
        "FQIZ3qScTqCJ",
        "hVqnZFknTqCJ",
        "idnYSDOITqCT"
      ]
    }
  },
  "cells": [
    {
      "cell_type": "markdown",
      "metadata": {
        "id": "Qyfo1_xjTqAm",
        "colab_type": "text"
      },
      "source": [
        "# Objective (Problem Statement): To predict the area burned in the Forest Fire."
      ]
    },
    {
      "cell_type": "markdown",
      "metadata": {
        "id": "gOIHCG7lTqAq",
        "colab_type": "text"
      },
      "source": [
        "## Import Library"
      ]
    },
    {
      "cell_type": "code",
      "metadata": {
        "trusted": true,
        "id": "wKnjkDXBTqAs",
        "colab_type": "code",
        "colab": {}
      },
      "source": [
        "# import library\n",
        "import numpy as np\n",
        "import pandas as pd\n",
        "import matplotlib.pyplot as plt\n",
        "import seaborn as sns\n",
        "from scipy.stats import zscore\n",
        "import xgboost as xgb\n",
        "from sklearn.metrics import mean_squared_error\n",
        "from sklearn.preprocessing import LabelEncoder \n",
        "from sklearn.model_selection import train_test_split\n",
        "\n",
        "\n",
        "pd.set_option('display.float_format', lambda x: '{:.4f}'.format(x)) #Limiting 4 decimal\n",
        "plt.rcParams[\"figure.figsize\"] = [9,5]\n",
        "plt.style.use('ggplot')\n",
        "\n"
      ],
      "execution_count": 0,
      "outputs": []
    },
    {
      "cell_type": "markdown",
      "metadata": {
        "id": "DKLzB2-NTqA1",
        "colab_type": "text"
      },
      "source": [
        "## Load & Describe Dataset"
      ]
    },
    {
      "cell_type": "markdown",
      "metadata": {
        "id": "emLbxNpUTqA4",
        "colab_type": "text"
      },
      "source": [
        "### Load"
      ]
    },
    {
      "cell_type": "code",
      "metadata": {
        "trusted": true,
        "id": "yTZ-iDHGTqA6",
        "colab_type": "code",
        "colab": {}
      },
      "source": [
        "data_df = pd.read_csv(\"forestfires.csv\")"
      ],
      "execution_count": 0,
      "outputs": []
    },
    {
      "cell_type": "markdown",
      "metadata": {
        "id": "r8W1mXfzTqBC",
        "colab_type": "text"
      },
      "source": [
        "### First Five Rows"
      ]
    },
    {
      "cell_type": "code",
      "metadata": {
        "trusted": true,
        "id": "lYI1F4-_TqBF",
        "colab_type": "code",
        "outputId": "7a7197da-42cb-4902-e31d-be35a77f73f7",
        "colab": {
          "base_uri": "https://localhost:8080/",
          "height": 198
        }
      },
      "source": [
        "data_df.head()"
      ],
      "execution_count": 0,
      "outputs": [
        {
          "output_type": "execute_result",
          "data": {
            "text/html": [
              "<div>\n",
              "<style scoped>\n",
              "    .dataframe tbody tr th:only-of-type {\n",
              "        vertical-align: middle;\n",
              "    }\n",
              "\n",
              "    .dataframe tbody tr th {\n",
              "        vertical-align: top;\n",
              "    }\n",
              "\n",
              "    .dataframe thead th {\n",
              "        text-align: right;\n",
              "    }\n",
              "</style>\n",
              "<table border=\"1\" class=\"dataframe\">\n",
              "  <thead>\n",
              "    <tr style=\"text-align: right;\">\n",
              "      <th></th>\n",
              "      <th>X</th>\n",
              "      <th>Y</th>\n",
              "      <th>month</th>\n",
              "      <th>day</th>\n",
              "      <th>FFMC</th>\n",
              "      <th>DMC</th>\n",
              "      <th>DC</th>\n",
              "      <th>ISI</th>\n",
              "      <th>temp</th>\n",
              "      <th>RH</th>\n",
              "      <th>wind</th>\n",
              "      <th>rain</th>\n",
              "      <th>area</th>\n",
              "    </tr>\n",
              "  </thead>\n",
              "  <tbody>\n",
              "    <tr>\n",
              "      <th>0</th>\n",
              "      <td>7</td>\n",
              "      <td>5</td>\n",
              "      <td>mar</td>\n",
              "      <td>fri</td>\n",
              "      <td>86.2000</td>\n",
              "      <td>26.2000</td>\n",
              "      <td>94.3000</td>\n",
              "      <td>5.1000</td>\n",
              "      <td>8.2000</td>\n",
              "      <td>51</td>\n",
              "      <td>6.7000</td>\n",
              "      <td>0.0000</td>\n",
              "      <td>0.0000</td>\n",
              "    </tr>\n",
              "    <tr>\n",
              "      <th>1</th>\n",
              "      <td>7</td>\n",
              "      <td>4</td>\n",
              "      <td>oct</td>\n",
              "      <td>tue</td>\n",
              "      <td>90.6000</td>\n",
              "      <td>35.4000</td>\n",
              "      <td>669.1000</td>\n",
              "      <td>6.7000</td>\n",
              "      <td>18.0000</td>\n",
              "      <td>33</td>\n",
              "      <td>0.9000</td>\n",
              "      <td>0.0000</td>\n",
              "      <td>0.0000</td>\n",
              "    </tr>\n",
              "    <tr>\n",
              "      <th>2</th>\n",
              "      <td>7</td>\n",
              "      <td>4</td>\n",
              "      <td>oct</td>\n",
              "      <td>sat</td>\n",
              "      <td>90.6000</td>\n",
              "      <td>43.7000</td>\n",
              "      <td>686.9000</td>\n",
              "      <td>6.7000</td>\n",
              "      <td>14.6000</td>\n",
              "      <td>33</td>\n",
              "      <td>1.3000</td>\n",
              "      <td>0.0000</td>\n",
              "      <td>0.0000</td>\n",
              "    </tr>\n",
              "    <tr>\n",
              "      <th>3</th>\n",
              "      <td>8</td>\n",
              "      <td>6</td>\n",
              "      <td>mar</td>\n",
              "      <td>fri</td>\n",
              "      <td>91.7000</td>\n",
              "      <td>33.3000</td>\n",
              "      <td>77.5000</td>\n",
              "      <td>9.0000</td>\n",
              "      <td>8.3000</td>\n",
              "      <td>97</td>\n",
              "      <td>4.0000</td>\n",
              "      <td>0.2000</td>\n",
              "      <td>0.0000</td>\n",
              "    </tr>\n",
              "    <tr>\n",
              "      <th>4</th>\n",
              "      <td>8</td>\n",
              "      <td>6</td>\n",
              "      <td>mar</td>\n",
              "      <td>sun</td>\n",
              "      <td>89.3000</td>\n",
              "      <td>51.3000</td>\n",
              "      <td>102.2000</td>\n",
              "      <td>9.6000</td>\n",
              "      <td>11.4000</td>\n",
              "      <td>99</td>\n",
              "      <td>1.8000</td>\n",
              "      <td>0.0000</td>\n",
              "      <td>0.0000</td>\n",
              "    </tr>\n",
              "  </tbody>\n",
              "</table>\n",
              "</div>"
            ],
            "text/plain": [
              "   X  Y month  day    FFMC     DMC  ...    ISI    temp  RH   wind   rain   area\n",
              "0  7  5   mar  fri 86.2000 26.2000  ... 5.1000  8.2000  51 6.7000 0.0000 0.0000\n",
              "1  7  4   oct  tue 90.6000 35.4000  ... 6.7000 18.0000  33 0.9000 0.0000 0.0000\n",
              "2  7  4   oct  sat 90.6000 43.7000  ... 6.7000 14.6000  33 1.3000 0.0000 0.0000\n",
              "3  8  6   mar  fri 91.7000 33.3000  ... 9.0000  8.3000  97 4.0000 0.2000 0.0000\n",
              "4  8  6   mar  sun 89.3000 51.3000  ... 9.6000 11.4000  99 1.8000 0.0000 0.0000\n",
              "\n",
              "[5 rows x 13 columns]"
            ]
          },
          "metadata": {
            "tags": []
          },
          "execution_count": 66
        }
      ]
    },
    {
      "cell_type": "markdown",
      "metadata": {
        "id": "ev8vS5T_TqBM",
        "colab_type": "text"
      },
      "source": [
        "#### Set Target Variable\n",
        "We need to find area burned so we set target equals to area "
      ]
    },
    {
      "cell_type": "code",
      "metadata": {
        "trusted": true,
        "id": "k4tIoYjhTqBO",
        "colab_type": "code",
        "colab": {}
      },
      "source": [
        "target = 'area' "
      ],
      "execution_count": 0,
      "outputs": []
    },
    {
      "cell_type": "markdown",
      "metadata": {
        "id": "TrQkGxNPTqBU",
        "colab_type": "text"
      },
      "source": [
        "### Shape"
      ]
    },
    {
      "cell_type": "code",
      "metadata": {
        "trusted": true,
        "id": "JcNlC3X5TqBV",
        "colab_type": "code",
        "outputId": "6245d743-4586-433b-c5da-62db6d10badf",
        "colab": {
          "base_uri": "https://localhost:8080/",
          "height": 35
        }
      },
      "source": [
        "data_df.shape"
      ],
      "execution_count": 0,
      "outputs": [
        {
          "output_type": "execute_result",
          "data": {
            "text/plain": [
              "(517, 13)"
            ]
          },
          "metadata": {
            "tags": []
          },
          "execution_count": 68
        }
      ]
    },
    {
      "cell_type": "markdown",
      "metadata": {
        "id": "JQIE7VPMTqBZ",
        "colab_type": "text"
      },
      "source": [
        "### Data types"
      ]
    },
    {
      "cell_type": "code",
      "metadata": {
        "trusted": true,
        "id": "QIDrBcvcTqBa",
        "colab_type": "code",
        "outputId": "c11234a0-ec75-4897-9adc-d60e2cefca34",
        "colab": {
          "base_uri": "https://localhost:8080/",
          "height": 272
        }
      },
      "source": [
        "data_df.dtypes"
      ],
      "execution_count": 0,
      "outputs": [
        {
          "output_type": "execute_result",
          "data": {
            "text/plain": [
              "X          int64\n",
              "Y          int64\n",
              "month     object\n",
              "day       object\n",
              "FFMC     float64\n",
              "DMC      float64\n",
              "DC       float64\n",
              "ISI      float64\n",
              "temp     float64\n",
              "RH         int64\n",
              "wind     float64\n",
              "rain     float64\n",
              "area     float64\n",
              "dtype: object"
            ]
          },
          "metadata": {
            "tags": []
          },
          "execution_count": 69
        }
      ]
    },
    {
      "cell_type": "markdown",
      "metadata": {
        "id": "utG7Gas9TqBh",
        "colab_type": "text"
      },
      "source": [
        "We need to convert month and day to either `int` or `float` from object data type"
      ]
    },
    {
      "cell_type": "markdown",
      "metadata": {
        "id": "elMqfxgzTqBi",
        "colab_type": "text"
      },
      "source": [
        "### Feature Columns"
      ]
    },
    {
      "cell_type": "code",
      "metadata": {
        "trusted": true,
        "id": "HmePGwTzTqBj",
        "colab_type": "code",
        "outputId": "8c616925-e24c-4bf7-c865-efdeca424a21",
        "colab": {
          "base_uri": "https://localhost:8080/"
        }
      },
      "source": [
        "data_df.columns"
      ],
      "execution_count": 0,
      "outputs": [
        {
          "output_type": "execute_result",
          "data": {
            "text/plain": [
              "Index(['X', 'Y', 'month', 'day', 'FFMC', 'DMC', 'DC', 'ISI', 'temp', 'RH',\n",
              "       'wind', 'rain', 'area'],\n",
              "      dtype='object')"
            ]
          },
          "metadata": {
            "tags": []
          },
          "execution_count": 70
        }
      ]
    },
    {
      "cell_type": "markdown",
      "metadata": {
        "id": "3Vc1JOFBTqBn",
        "colab_type": "text"
      },
      "source": [
        "### Describe Dataset"
      ]
    },
    {
      "cell_type": "code",
      "metadata": {
        "trusted": true,
        "id": "bJZ9kyqzTqBn",
        "colab_type": "code",
        "outputId": "821e2ba7-4696-48dd-b0ac-e6264c5e41a8",
        "colab": {
          "base_uri": "https://localhost:8080/"
        }
      },
      "source": [
        "data_df.describe()"
      ],
      "execution_count": 0,
      "outputs": [
        {
          "output_type": "execute_result",
          "data": {
            "text/html": [
              "<div>\n",
              "<style scoped>\n",
              "    .dataframe tbody tr th:only-of-type {\n",
              "        vertical-align: middle;\n",
              "    }\n",
              "\n",
              "    .dataframe tbody tr th {\n",
              "        vertical-align: top;\n",
              "    }\n",
              "\n",
              "    .dataframe thead th {\n",
              "        text-align: right;\n",
              "    }\n",
              "</style>\n",
              "<table border=\"1\" class=\"dataframe\">\n",
              "  <thead>\n",
              "    <tr style=\"text-align: right;\">\n",
              "      <th></th>\n",
              "      <th>X</th>\n",
              "      <th>Y</th>\n",
              "      <th>FFMC</th>\n",
              "      <th>DMC</th>\n",
              "      <th>DC</th>\n",
              "      <th>ISI</th>\n",
              "      <th>temp</th>\n",
              "      <th>RH</th>\n",
              "      <th>wind</th>\n",
              "      <th>rain</th>\n",
              "      <th>area</th>\n",
              "    </tr>\n",
              "  </thead>\n",
              "  <tbody>\n",
              "    <tr>\n",
              "      <th>count</th>\n",
              "      <td>517.0000</td>\n",
              "      <td>517.0000</td>\n",
              "      <td>517.0000</td>\n",
              "      <td>517.0000</td>\n",
              "      <td>517.0000</td>\n",
              "      <td>517.0000</td>\n",
              "      <td>517.0000</td>\n",
              "      <td>517.0000</td>\n",
              "      <td>517.0000</td>\n",
              "      <td>517.0000</td>\n",
              "      <td>517.0000</td>\n",
              "    </tr>\n",
              "    <tr>\n",
              "      <th>mean</th>\n",
              "      <td>4.6692</td>\n",
              "      <td>4.2998</td>\n",
              "      <td>90.6447</td>\n",
              "      <td>110.8723</td>\n",
              "      <td>547.9400</td>\n",
              "      <td>9.0217</td>\n",
              "      <td>18.8892</td>\n",
              "      <td>44.2882</td>\n",
              "      <td>4.0176</td>\n",
              "      <td>0.0217</td>\n",
              "      <td>12.8473</td>\n",
              "    </tr>\n",
              "    <tr>\n",
              "      <th>std</th>\n",
              "      <td>2.3138</td>\n",
              "      <td>1.2299</td>\n",
              "      <td>5.5201</td>\n",
              "      <td>64.0465</td>\n",
              "      <td>248.0662</td>\n",
              "      <td>4.5595</td>\n",
              "      <td>5.8066</td>\n",
              "      <td>16.3175</td>\n",
              "      <td>1.7917</td>\n",
              "      <td>0.2960</td>\n",
              "      <td>63.6558</td>\n",
              "    </tr>\n",
              "    <tr>\n",
              "      <th>min</th>\n",
              "      <td>1.0000</td>\n",
              "      <td>2.0000</td>\n",
              "      <td>18.7000</td>\n",
              "      <td>1.1000</td>\n",
              "      <td>7.9000</td>\n",
              "      <td>0.0000</td>\n",
              "      <td>2.2000</td>\n",
              "      <td>15.0000</td>\n",
              "      <td>0.4000</td>\n",
              "      <td>0.0000</td>\n",
              "      <td>0.0000</td>\n",
              "    </tr>\n",
              "    <tr>\n",
              "      <th>25%</th>\n",
              "      <td>3.0000</td>\n",
              "      <td>4.0000</td>\n",
              "      <td>90.2000</td>\n",
              "      <td>68.6000</td>\n",
              "      <td>437.7000</td>\n",
              "      <td>6.5000</td>\n",
              "      <td>15.5000</td>\n",
              "      <td>33.0000</td>\n",
              "      <td>2.7000</td>\n",
              "      <td>0.0000</td>\n",
              "      <td>0.0000</td>\n",
              "    </tr>\n",
              "    <tr>\n",
              "      <th>50%</th>\n",
              "      <td>4.0000</td>\n",
              "      <td>4.0000</td>\n",
              "      <td>91.6000</td>\n",
              "      <td>108.3000</td>\n",
              "      <td>664.2000</td>\n",
              "      <td>8.4000</td>\n",
              "      <td>19.3000</td>\n",
              "      <td>42.0000</td>\n",
              "      <td>4.0000</td>\n",
              "      <td>0.0000</td>\n",
              "      <td>0.5200</td>\n",
              "    </tr>\n",
              "    <tr>\n",
              "      <th>75%</th>\n",
              "      <td>7.0000</td>\n",
              "      <td>5.0000</td>\n",
              "      <td>92.9000</td>\n",
              "      <td>142.4000</td>\n",
              "      <td>713.9000</td>\n",
              "      <td>10.8000</td>\n",
              "      <td>22.8000</td>\n",
              "      <td>53.0000</td>\n",
              "      <td>4.9000</td>\n",
              "      <td>0.0000</td>\n",
              "      <td>6.5700</td>\n",
              "    </tr>\n",
              "    <tr>\n",
              "      <th>max</th>\n",
              "      <td>9.0000</td>\n",
              "      <td>9.0000</td>\n",
              "      <td>96.2000</td>\n",
              "      <td>291.3000</td>\n",
              "      <td>860.6000</td>\n",
              "      <td>56.1000</td>\n",
              "      <td>33.3000</td>\n",
              "      <td>100.0000</td>\n",
              "      <td>9.4000</td>\n",
              "      <td>6.4000</td>\n",
              "      <td>1090.8400</td>\n",
              "    </tr>\n",
              "  </tbody>\n",
              "</table>\n",
              "</div>"
            ],
            "text/plain": [
              "             X        Y     FFMC      DMC  ...       RH     wind     rain      area\n",
              "count 517.0000 517.0000 517.0000 517.0000  ... 517.0000 517.0000 517.0000  517.0000\n",
              "mean    4.6692   4.2998  90.6447 110.8723  ...  44.2882   4.0176   0.0217   12.8473\n",
              "std     2.3138   1.2299   5.5201  64.0465  ...  16.3175   1.7917   0.2960   63.6558\n",
              "min     1.0000   2.0000  18.7000   1.1000  ...  15.0000   0.4000   0.0000    0.0000\n",
              "25%     3.0000   4.0000  90.2000  68.6000  ...  33.0000   2.7000   0.0000    0.0000\n",
              "50%     4.0000   4.0000  91.6000 108.3000  ...  42.0000   4.0000   0.0000    0.5200\n",
              "75%     7.0000   5.0000  92.9000 142.4000  ...  53.0000   4.9000   0.0000    6.5700\n",
              "max     9.0000   9.0000  96.2000 291.3000  ... 100.0000   9.4000   6.4000 1090.8400\n",
              "\n",
              "[8 rows x 11 columns]"
            ]
          },
          "metadata": {
            "tags": []
          },
          "execution_count": 71
        }
      ]
    },
    {
      "cell_type": "markdown",
      "metadata": {
        "id": "byhLZvsyTqBr",
        "colab_type": "text"
      },
      "source": [
        "<p>As we can see count of every feature columns are same as shape of dataset. So we can say there is no missing data but we need to check to confirm. We will check later.</p>\n",
        "<p>Wen can see 50% (the middle of the data) also called median of feature columns('X', 'Y', 'DMC', 'ISI', 'RH', 'wind', 'rain', 'area') have higher mean value than median i.e data is right skewed. In all feature columns, column: 'area' is highly skewed.    \n",
        "</p>"
      ]
    },
    {
      "cell_type": "markdown",
      "metadata": {
        "id": "32ACBcVbTqBs",
        "colab_type": "text"
      },
      "source": [
        "#### How to handle right skewed data?\n",
        "<p>Here data are right-skewed (clustered at lower values). We will perform operations like:- square root, cube root, logarithmic, etc. to transform the data. If the data are left-skewed (clustered at higher values). We will perform operations like:- cube, square, etc.</p>"
      ]
    },
    {
      "cell_type": "markdown",
      "metadata": {
        "id": "-iN_tfcKTqBt",
        "colab_type": "text"
      },
      "source": [
        "## EDA(Explotary Data Analysis)"
      ]
    },
    {
      "cell_type": "markdown",
      "metadata": {
        "id": "ORGcZyWETqBt",
        "colab_type": "text"
      },
      "source": [
        "### Check missing values"
      ]
    },
    {
      "cell_type": "code",
      "metadata": {
        "trusted": true,
        "id": "B3MeBFTMTqBu",
        "colab_type": "code",
        "outputId": "62583e20-1a94-4be4-d69e-75520bcccabb",
        "colab": {
          "base_uri": "https://localhost:8080/"
        }
      },
      "source": [
        "# Calculating missing data in feature columns\n",
        "data_mis = (data_df.isnull().sum() / len(data_df)) * 100\n",
        "data_mis = data_mis.drop(data_mis[data_mis == 0].index).sort_values(ascending=False)\n",
        "data_mis = pd.DataFrame({'Percentage' :data_mis})\n",
        "data_mis['Id'] = data_mis.index\n",
        "data_mis.reset_index(drop=True,level=0, inplace=True)\n",
        "data_mis.head()"
      ],
      "execution_count": 0,
      "outputs": [
        {
          "output_type": "execute_result",
          "data": {
            "text/html": [
              "<div>\n",
              "<style scoped>\n",
              "    .dataframe tbody tr th:only-of-type {\n",
              "        vertical-align: middle;\n",
              "    }\n",
              "\n",
              "    .dataframe tbody tr th {\n",
              "        vertical-align: top;\n",
              "    }\n",
              "\n",
              "    .dataframe thead th {\n",
              "        text-align: right;\n",
              "    }\n",
              "</style>\n",
              "<table border=\"1\" class=\"dataframe\">\n",
              "  <thead>\n",
              "    <tr style=\"text-align: right;\">\n",
              "      <th></th>\n",
              "      <th>Percentage</th>\n",
              "      <th>Id</th>\n",
              "    </tr>\n",
              "  </thead>\n",
              "  <tbody>\n",
              "  </tbody>\n",
              "</table>\n",
              "</div>"
            ],
            "text/plain": [
              "Empty DataFrame\n",
              "Columns: [Percentage, Id]\n",
              "Index: []"
            ]
          },
          "metadata": {
            "tags": []
          },
          "execution_count": 72
        }
      ]
    },
    {
      "cell_type": "markdown",
      "metadata": {
        "id": "M44X2XquTqBx",
        "colab_type": "text"
      },
      "source": [
        "No missing value is found in the dataset."
      ]
    },
    {
      "cell_type": "markdown",
      "metadata": {
        "id": "amhvgPe-TqBy",
        "colab_type": "text"
      },
      "source": [
        "#### Numerical and & Categorical Columns"
      ]
    },
    {
      "cell_type": "code",
      "metadata": {
        "trusted": true,
        "id": "Xo1cHzJ4TqBz",
        "colab_type": "code",
        "colab": {}
      },
      "source": [
        "dft = data_df.drop(columns=target)\n",
        "cate_columns = dft.select_dtypes(include='object').columns.tolist()\n",
        "nume_columns = dft.select_dtypes(exclude='object').columns.tolist()"
      ],
      "execution_count": 0,
      "outputs": []
    },
    {
      "cell_type": "code",
      "metadata": {
        "trusted": true,
        "id": "IK8NM6V0TqB1",
        "colab_type": "code",
        "outputId": "7b8688a4-e424-49fc-de8a-58b778ccdc79",
        "colab": {
          "base_uri": "https://localhost:8080/"
        }
      },
      "source": [
        "print('Categorical columns: ',cate_columns)\n",
        "print('Numerical columns: ',nume_columns)"
      ],
      "execution_count": 0,
      "outputs": [
        {
          "output_type": "stream",
          "text": [
            "Categorical columns:  ['month', 'day']\n",
            "Numerical columns:  ['X', 'Y', 'FFMC', 'DMC', 'DC', 'ISI', 'temp', 'RH', 'wind', 'rain']\n"
          ],
          "name": "stdout"
        }
      ]
    },
    {
      "cell_type": "markdown",
      "metadata": {
        "id": "_z1PYF4RTqB4",
        "colab_type": "text"
      },
      "source": [
        "### Univariate Check"
      ]
    },
    {
      "cell_type": "markdown",
      "metadata": {
        "id": "Tq3i5oX5TqB5",
        "colab_type": "text"
      },
      "source": [
        "### Skewness & Kurtosis"
      ]
    },
    {
      "cell_type": "code",
      "metadata": {
        "trusted": true,
        "id": "h_ku7lagTqB5",
        "colab_type": "code",
        "outputId": "5c05dc6c-d5ac-4dc1-e3c5-72d19d5e4d61",
        "colab": {
          "base_uri": "https://localhost:8080/"
        }
      },
      "source": [
        "print(\"Skew: \\n{}\".format(data_df.skew()))\n",
        "print(\"Kurtosis: \\n{}\".format(data_df.kurtosis()))"
      ],
      "execution_count": 0,
      "outputs": [
        {
          "output_type": "stream",
          "text": [
            "Skew: \n",
            "X       0.0362\n",
            "Y       0.4173\n",
            "FFMC   -6.5756\n",
            "DMC     0.5475\n",
            "DC     -1.1004\n",
            "ISI     2.5363\n",
            "temp   -0.3312\n",
            "RH      0.8629\n",
            "wind    0.5710\n",
            "rain   19.8163\n",
            "area   12.8469\n",
            "dtype: float64\n",
            "Kurtosis: \n",
            "X       -1.1723\n",
            "Y        1.4206\n",
            "FFMC    67.0660\n",
            "DMC      0.2048\n",
            "DC      -0.2452\n",
            "ISI     21.4580\n",
            "temp     0.1362\n",
            "RH       0.4382\n",
            "wind     0.0543\n",
            "rain   421.2960\n",
            "area   194.1407\n",
            "dtype: float64\n"
          ],
          "name": "stdout"
        }
      ]
    },
    {
      "cell_type": "markdown",
      "metadata": {
        "id": "E9SuJkBhTqB7",
        "colab_type": "text"
      },
      "source": [
        "<p>Skew is the degree of distortion from a normal distribution. skewed, meaning there are a minority of very large values.</p>\n",
        "<p>Kurtosis is all about the tails of the distribution — not the peakedness or flatness. It is used to describe the extreme values in one versus the other tail. It is actually the measure of outliers present in the distribution . High kurtosis in a data set is an indicator that data has heavy tails or outliers.</p>"
      ]
    },
    {
      "cell_type": "markdown",
      "metadata": {
        "id": "RO6ou9zhTqB8",
        "colab_type": "text"
      },
      "source": [
        "<p>If skewness is positive, the data are positively skewed or skewed right, meaning that the right tail of the distribution is longer than the left. If skewness is negative, the data are negatively skewed or skewed left, meaning that the left tail is longer.</p>"
      ]
    },
    {
      "cell_type": "markdown",
      "metadata": {
        "id": "JmNv5FBWTqB8",
        "colab_type": "text"
      },
      "source": [
        "<ul>\n",
        "    <li>If skewness is less than −1 or greater than +1, the distribution is highly skewed.</li>\n",
        "    <li>If skewness is between −1 and −½ or between +½ and +1, the distribution is moderately skewed.</li>\n",
        "    <li>If skewness is between −½ and +½, the distribution is approximately symmetric.</li>\n",
        "</ul>"
      ]
    },
    {
      "cell_type": "markdown",
      "metadata": {
        "id": "7OdQHkphTqB9",
        "colab_type": "text"
      },
      "source": [
        "<ul>\n",
        "<li>A normal distribution has kurtosis exactly 3 (excess kurtosis exactly 0). Any distribution with kurtosis ≈3 (excess ≈0) is called mesokurtic.</li>\n",
        "<li>A distribution with kurtosis &lt;3 (excess kurtosis &lt;0 ) is called platykurtic. Compared to a normal distribution, its tails are shorter and thinner, and often its central peak is lower and broader.</li>\n",
        "<li>A distribution with kurtosis &gt;3 (excess kurtosis >0) is called leptokurtic. Compared to a normal distribution, its tails are longer and fatter, and often its central peak is higher and sharper.</li>\n",
        "</ul>"
      ]
    },
    {
      "cell_type": "markdown",
      "metadata": {
        "id": "KjN94w_VTqB9",
        "colab_type": "text"
      },
      "source": [
        "<p>\n",
        "<b> Feature columns:- 'ISI', & 'rain'  have +ve skewness, value more than +1 so, they are right skewed.</b>\n",
        "</p>    "
      ]
    },
    {
      "cell_type": "markdown",
      "metadata": {
        "id": "XcG0LbQOTqB-",
        "colab_type": "text"
      },
      "source": [
        "<p>\n",
        "<b> Feature columns:- 'FFMC', & 'temp'  have -ve skewness, value less than -1 so, they are left skewed.</b>\n",
        "</p>    "
      ]
    },
    {
      "cell_type": "markdown",
      "metadata": {
        "id": "6kWpQDZ0TqB_",
        "colab_type": "text"
      },
      "source": [
        "<p>\n",
        "<b> Feature columns:- 'FFMC', 'ISI', & 'rain'  have higher kurtosis value. i,e have outliers.</b>\n",
        "</p>    "
      ]
    },
    {
      "cell_type": "markdown",
      "metadata": {
        "id": "qaEhfGPITqB_",
        "colab_type": "text"
      },
      "source": [
        "Feature columns with (high, +ve, or -ve) outliers, skewness and kurtosis are: \n",
        "<ol>\n",
        "<li>FFMC</li>\n",
        "<li>ISI</li>\n",
        "<li>rain</li>\n",
        "</ol>"
      ]
    },
    {
      "cell_type": "code",
      "metadata": {
        "trusted": true,
        "id": "l_qRFLV9TqCA",
        "colab_type": "code",
        "outputId": "c6e73802-5719-418f-ea5f-f16f10946e3b",
        "colab": {
          "base_uri": "https://localhost:8080/"
        }
      },
      "source": [
        "plt.figure(figsize=(15,5))\n",
        "ax = sns.kdeplot(data_df[target],shade=True,color='b')\n",
        "plt.xticks([i for i in range(0,1250,50)])\n",
        "plt.show()"
      ],
      "execution_count": 0,
      "outputs": [
        {
          "output_type": "display_data",
          "data": {
            "image/png": "[encoded data removed]",
            "text/plain": [
              "<Figure size 1080x360 with 1 Axes>"
            ]
          },
          "metadata": {
            "tags": []
          }
        }
      ]
    },
    {
      "cell_type": "markdown",
      "metadata": {
        "id": "LBvDwH8DTqCE",
        "colab_type": "text"
      },
      "source": [
        "#### target i.e area is right skewed."
      ]
    },
    {
      "cell_type": "code",
      "metadata": {
        "trusted": true,
        "id": "jNLw6AOxTqCF",
        "colab_type": "code",
        "outputId": "fbc74051-68ae-41f6-8b34-c17a4ca3b182",
        "colab": {
          "base_uri": "https://localhost:8080/"
        }
      },
      "source": [
        "plt.figure(figsize=(15,5))\n",
        "ax = sns.kdeplot(data_df['FFMC'],shade=True,color='b')\n",
        "plt.xticks([i for i in range(0,100,5)])\n",
        "plt.show()"
      ],
      "execution_count": 0,
      "outputs": [
        {
          "output_type": "display_data",
          "data": {
            "image/png": "[encoded data removed]",
            "text/plain": [
              "<Figure size 1080x360 with 1 Axes>"
            ]
          },
          "metadata": {
            "tags": []
          }
        }
      ]
    },
    {
      "cell_type": "markdown",
      "metadata": {
        "id": "F70TQvucTqCH",
        "colab_type": "text"
      },
      "source": [
        "#### FFMC is left skewed."
      ]
    },
    {
      "cell_type": "markdown",
      "metadata": {
        "id": "4l0EJRa10B8G",
        "colab_type": "text"
      },
      "source": [
        ""
      ]
    },
    {
      "cell_type": "code",
      "metadata": {
        "trusted": true,
        "id": "JPVGgbEeTqCH",
        "colab_type": "code",
        "outputId": "5402893c-6368-4ad3-abef-f3548df942d2",
        "colab": {
          "base_uri": "https://localhost:8080/"
        }
      },
      "source": [
        "plt.figure(figsize=(15,5))\n",
        "ax = sns.kdeplot(data_df['ISI'],shade=True,color='b')\n",
        "plt.xticks([i for i in range(0,100,5)])\n",
        "plt.show()\n"
      ],
      "execution_count": 0,
      "outputs": [
        {
          "output_type": "display_data",
          "data": {
            "image/png": "[encoded data removed]",
            "text/plain": [
              "<Figure size 1080x360 with 1 Axes>"
            ]
          },
          "metadata": {
            "tags": []
          }
        }
      ]
    },
    {
      "cell_type": "markdown",
      "metadata": {
        "id": "FQIZ3qScTqCJ",
        "colab_type": "text"
      },
      "source": [
        "#### ISI is right skewed."
      ]
    },
    {
      "cell_type": "markdown",
      "metadata": {
        "id": "hVqnZFknTqCJ",
        "colab_type": "text"
      },
      "source": [
        "### Outliers"
      ]
    },
    {
      "cell_type": "code",
      "metadata": {
        "trusted": true,
        "id": "fgq0TdoYTqCK",
        "colab_type": "code",
        "outputId": "4d8d11ff-02f4-4cee-9120-a03723b89dd3",
        "colab": {
          "base_uri": "https://localhost:8080/"
        }
      },
      "source": [
        "outl_dect = sns.boxplot(data_df[target])"
      ],
      "execution_count": 0,
      "outputs": [
        {
          "output_type": "display_data",
          "data": {
            "image/png": "[encoded data removed]",
            "text/plain": [
              "<Figure size 648x360 with 1 Axes>"
            ]
          },
          "metadata": {
            "tags": []
          }
        }
      ]
    },
    {
      "cell_type": "code",
      "metadata": {
        "trusted": true,
        "id": "Ba03MUMaTqCM",
        "colab_type": "code",
        "outputId": "ec5e4c4f-4aac-44d1-da53-13de286d6a25",
        "colab": {
          "base_uri": "https://localhost:8080/"
        }
      },
      "source": [
        "outl_dect = sns.boxplot(data_df['FFMC'])"
      ],
      "execution_count": 0,
      "outputs": [
        {
          "output_type": "display_data",
          "data": {
            "image/png": "[encoded data removed]",
            "text/plain": [
              "<Figure size 648x360 with 1 Axes>"
            ]
          },
          "metadata": {
            "tags": []
          }
        }
      ]
    },
    {
      "cell_type": "code",
      "metadata": {
        "trusted": true,
        "id": "W2DMFDqiTqCO",
        "colab_type": "code",
        "outputId": "b824184c-70f7-421b-9573-d88d52e337a7",
        "colab": {
          "base_uri": "https://localhost:8080/"
        }
      },
      "source": [
        "outl_dect = sns.boxplot(data_df['ISI'])"
      ],
      "execution_count": 0,
      "outputs": [
        {
          "output_type": "display_data",
          "data": {
            "image/png": "[encoded data removed]",
            "text/plain": [
              "<Figure size 648x360 with 1 Axes>"
            ]
          },
          "metadata": {
            "tags": []
          }
        }
      ]
    },
    {
      "cell_type": "code",
      "metadata": {
        "trusted": true,
        "id": "Q72YDvS2TqCQ",
        "colab_type": "code",
        "outputId": "25b3f63e-1b4f-4b5b-b684-c6a05ab384af",
        "colab": {
          "base_uri": "https://localhost:8080/"
        }
      },
      "source": [
        "outl_dect = sns.boxplot(data_df['rain'])"
      ],
      "execution_count": 0,
      "outputs": [
        {
          "output_type": "display_data",
          "data": {
            "image/png": "[encoded data removed]",
            "text/plain": [
              "<Figure size 648x360 with 1 Axes>"
            ]
          },
          "metadata": {
            "tags": []
          }
        }
      ]
    },
    {
      "cell_type": "markdown",
      "metadata": {
        "id": "idnYSDOITqCT",
        "colab_type": "text"
      },
      "source": [
        "### Outlier analysis"
      ]
    },
    {
      "cell_type": "markdown",
      "metadata": {
        "id": "Ep1LytImTqCT",
        "colab_type": "text"
      },
      "source": [
        "Outliers are found in the following columns:\n",
        "<ol>\n",
        "<li>area</li>\n",
        "<li>FFMC</li>\n",
        "<li>ISI</li>\n",
        "<li>rain</li>\n",
        "</ol>\n"
      ]
    },
    {
      "cell_type": "markdown",
      "metadata": {
        "id": "Pu2nxpqUTqCU",
        "colab_type": "text"
      },
      "source": [
        "<p>Instead of removing them we will transform the data to treat the outliers.</p>"
      ]
    },
    {
      "cell_type": "code",
      "metadata": {
        "trusted": true,
        "id": "UHfpzBHhTqCU",
        "colab_type": "code",
        "colab": {}
      },
      "source": [
        "outlier_columns = ['area','FFMC','ISI','rain']"
      ],
      "execution_count": 0,
      "outputs": []
    },
    {
      "cell_type": "code",
      "metadata": {
        "trusted": true,
        "id": "KTpU9oVNTqCW",
        "colab_type": "code",
        "outputId": "1afb27ff-f991-452a-a5fe-5b69ad2046b3",
        "colab": {
          "base_uri": "https://localhost:8080/"
        }
      },
      "source": [
        "np.log1p(data_df[outlier_columns]).skew()"
      ],
      "execution_count": 0,
      "outputs": [
        {
          "output_type": "execute_result",
          "data": {
            "text/plain": [
              "area     1.2178\n",
              "FFMC   -11.6754\n",
              "ISI     -0.9372\n",
              "rain    14.1730\n",
              "dtype: float64"
            ]
          },
          "metadata": {
            "tags": []
          },
          "execution_count": 84
        }
      ]
    },
    {
      "cell_type": "code",
      "metadata": {
        "trusted": true,
        "id": "BjDG6PtZTqCY",
        "colab_type": "code",
        "outputId": "f88abc80-598f-4ac2-a1a4-ff349f3dfdbb",
        "colab": {
          "base_uri": "https://localhost:8080/"
        }
      },
      "source": [
        "np.log1p(data_df[outlier_columns]).kurtosis()"
      ],
      "execution_count": 0,
      "outputs": [
        {
          "output_type": "execute_result",
          "data": {
            "text/plain": [
              "area     0.9457\n",
              "FFMC   185.4824\n",
              "ISI      2.5846\n",
              "rain   234.2400\n",
              "dtype: float64"
            ]
          },
          "metadata": {
            "tags": []
          },
          "execution_count": 85
        }
      ]
    },
    {
      "cell_type": "markdown",
      "metadata": {
        "id": "YKPEpiLxTqCb",
        "colab_type": "text"
      },
      "source": [
        "Even after transformation we still have high skewness and kurtosis in `FFMC` & `rain`"
      ]
    },
    {
      "cell_type": "markdown",
      "metadata": {
        "id": "kiWxBiuNTqCb",
        "colab_type": "text"
      },
      "source": [
        "<p>Removing outliers by zscore method.</p>"
      ]
    },
    {
      "cell_type": "code",
      "metadata": {
        "trusted": true,
        "id": "sISpha32TqCc",
        "colab_type": "code",
        "colab": {}
      },
      "source": [
        "mask = data_df.loc[:,['FFMC']].apply(zscore).abs() < 3"
      ],
      "execution_count": 0,
      "outputs": []
    },
    {
      "cell_type": "code",
      "metadata": {
        "trusted": true,
        "id": "qiwnBeAZTqCg",
        "colab_type": "code",
        "outputId": "64072a89-4919-484d-ac17-60bf59f632fc",
        "colab": {
          "base_uri": "https://localhost:8080/"
        }
      },
      "source": [
        "data_df = data_df[mask.values]\n",
        "data_df.shape"
      ],
      "execution_count": 0,
      "outputs": [
        {
          "output_type": "execute_result",
          "data": {
            "text/plain": [
              "(510, 13)"
            ]
          },
          "metadata": {
            "tags": []
          },
          "execution_count": 87
        }
      ]
    },
    {
      "cell_type": "code",
      "metadata": {
        "trusted": true,
        "id": "2LJhNZdETqCi",
        "colab_type": "code",
        "colab": {}
      },
      "source": [
        "# Since most of the values in rain are 0.0, we can convert it as a categorical column\n",
        "data_df['rain'] = data_df['rain'].apply(lambda x: int(x > 0.0))\n"
      ],
      "execution_count": 0,
      "outputs": []
    },
    {
      "cell_type": "code",
      "metadata": {
        "trusted": true,
        "id": "ou8cojYITqCk",
        "colab_type": "code",
        "colab": {}
      },
      "source": [
        "outlier_columns.remove('rain')\n",
        "data_df[outlier_columns] = np.log1p(data_df[outlier_columns])"
      ],
      "execution_count": 0,
      "outputs": []
    },
    {
      "cell_type": "code",
      "metadata": {
        "trusted": true,
        "id": "0d7OGMLBTqCm",
        "colab_type": "code",
        "outputId": "7ae8846d-58fd-41aa-b6e8-1fb6cc17725d",
        "colab": {
          "base_uri": "https://localhost:8080/"
        }
      },
      "source": [
        "data_df[outlier_columns].skew()"
      ],
      "execution_count": 0,
      "outputs": [
        {
          "output_type": "execute_result",
          "data": {
            "text/plain": [
              "area    1.2085\n",
              "FFMC   -1.8040\n",
              "ISI    -0.4344\n",
              "dtype: float64"
            ]
          },
          "metadata": {
            "tags": []
          },
          "execution_count": 90
        }
      ]
    },
    {
      "cell_type": "code",
      "metadata": {
        "trusted": true,
        "id": "WegbJCrSTqCp",
        "colab_type": "code",
        "outputId": "55141eee-591f-47e1-a0c2-c71384319ae5",
        "colab": {
          "base_uri": "https://localhost:8080/"
        }
      },
      "source": [
        "data_df[outlier_columns].kurtosis() "
      ],
      "execution_count": 0,
      "outputs": [
        {
          "output_type": "execute_result",
          "data": {
            "text/plain": [
              "area   0.9234\n",
              "FFMC   4.8667\n",
              "ISI    1.1226\n",
              "dtype: float64"
            ]
          },
          "metadata": {
            "tags": []
          },
          "execution_count": 91
        }
      ]
    },
    {
      "cell_type": "code",
      "metadata": {
        "trusted": true,
        "id": "T5QCTevRTqCs",
        "colab_type": "code",
        "outputId": "82cf8d18-3964-4dee-855c-2843d3456b24",
        "colab": {
          "base_uri": "https://localhost:8080/"
        }
      },
      "source": [
        "\n",
        "data_df.describe()"
      ],
      "execution_count": 0,
      "outputs": [
        {
          "output_type": "execute_result",
          "data": {
            "text/html": [
              "<div>\n",
              "<style scoped>\n",
              "    .dataframe tbody tr th:only-of-type {\n",
              "        vertical-align: middle;\n",
              "    }\n",
              "\n",
              "    .dataframe tbody tr th {\n",
              "        vertical-align: top;\n",
              "    }\n",
              "\n",
              "    .dataframe thead th {\n",
              "        text-align: right;\n",
              "    }\n",
              "</style>\n",
              "<table border=\"1\" class=\"dataframe\">\n",
              "  <thead>\n",
              "    <tr style=\"text-align: right;\">\n",
              "      <th></th>\n",
              "      <th>X</th>\n",
              "      <th>Y</th>\n",
              "      <th>FFMC</th>\n",
              "      <th>DMC</th>\n",
              "      <th>DC</th>\n",
              "      <th>ISI</th>\n",
              "      <th>temp</th>\n",
              "      <th>RH</th>\n",
              "      <th>wind</th>\n",
              "      <th>rain</th>\n",
              "      <th>area</th>\n",
              "    </tr>\n",
              "  </thead>\n",
              "  <tbody>\n",
              "    <tr>\n",
              "      <th>count</th>\n",
              "      <td>510.0000</td>\n",
              "      <td>510.0000</td>\n",
              "      <td>510.0000</td>\n",
              "      <td>510.0000</td>\n",
              "      <td>510.0000</td>\n",
              "      <td>510.0000</td>\n",
              "      <td>510.0000</td>\n",
              "      <td>510.0000</td>\n",
              "      <td>510.0000</td>\n",
              "      <td>510.0000</td>\n",
              "      <td>510.0000</td>\n",
              "    </tr>\n",
              "    <tr>\n",
              "      <th>mean</th>\n",
              "      <td>4.6804</td>\n",
              "      <td>4.2941</td>\n",
              "      <td>4.5226</td>\n",
              "      <td>111.8376</td>\n",
              "      <td>550.4704</td>\n",
              "      <td>2.2285</td>\n",
              "      <td>18.9516</td>\n",
              "      <td>44.0294</td>\n",
              "      <td>4.0173</td>\n",
              "      <td>0.0157</td>\n",
              "      <td>1.1214</td>\n",
              "    </tr>\n",
              "    <tr>\n",
              "      <th>std</th>\n",
              "      <td>2.3205</td>\n",
              "      <td>1.2346</td>\n",
              "      <td>0.0350</td>\n",
              "      <td>63.8537</td>\n",
              "      <td>246.6307</td>\n",
              "      <td>0.4288</td>\n",
              "      <td>5.7899</td>\n",
              "      <td>15.9683</td>\n",
              "      <td>1.7888</td>\n",
              "      <td>0.1244</td>\n",
              "      <td>1.4014</td>\n",
              "    </tr>\n",
              "    <tr>\n",
              "      <th>min</th>\n",
              "      <td>1.0000</td>\n",
              "      <td>2.0000</td>\n",
              "      <td>4.3320</td>\n",
              "      <td>3.0000</td>\n",
              "      <td>7.9000</td>\n",
              "      <td>0.7419</td>\n",
              "      <td>2.2000</td>\n",
              "      <td>15.0000</td>\n",
              "      <td>0.4000</td>\n",
              "      <td>0.0000</td>\n",
              "      <td>0.0000</td>\n",
              "    </tr>\n",
              "    <tr>\n",
              "      <th>25%</th>\n",
              "      <td>3.0000</td>\n",
              "      <td>4.0000</td>\n",
              "      <td>4.5142</td>\n",
              "      <td>73.2500</td>\n",
              "      <td>442.3000</td>\n",
              "      <td>2.0412</td>\n",
              "      <td>15.6250</td>\n",
              "      <td>32.2500</td>\n",
              "      <td>2.7000</td>\n",
              "      <td>0.0000</td>\n",
              "      <td>0.0000</td>\n",
              "    </tr>\n",
              "    <tr>\n",
              "      <th>50%</th>\n",
              "      <td>4.0000</td>\n",
              "      <td>4.0000</td>\n",
              "      <td>4.5288</td>\n",
              "      <td>108.4000</td>\n",
              "      <td>664.2000</td>\n",
              "      <td>2.2407</td>\n",
              "      <td>19.3000</td>\n",
              "      <td>41.5000</td>\n",
              "      <td>4.0000</td>\n",
              "      <td>0.0000</td>\n",
              "      <td>0.4572</td>\n",
              "    </tr>\n",
              "    <tr>\n",
              "      <th>75%</th>\n",
              "      <td>7.0000</td>\n",
              "      <td>5.0000</td>\n",
              "      <td>4.5422</td>\n",
              "      <td>142.4000</td>\n",
              "      <td>714.2000</td>\n",
              "      <td>2.4849</td>\n",
              "      <td>22.8000</td>\n",
              "      <td>53.0000</td>\n",
              "      <td>4.9000</td>\n",
              "      <td>0.0000</td>\n",
              "      <td>2.0252</td>\n",
              "    </tr>\n",
              "    <tr>\n",
              "      <th>max</th>\n",
              "      <td>9.0000</td>\n",
              "      <td>9.0000</td>\n",
              "      <td>4.5768</td>\n",
              "      <td>291.3000</td>\n",
              "      <td>860.6000</td>\n",
              "      <td>4.0448</td>\n",
              "      <td>33.3000</td>\n",
              "      <td>99.0000</td>\n",
              "      <td>9.4000</td>\n",
              "      <td>1.0000</td>\n",
              "      <td>6.9956</td>\n",
              "    </tr>\n",
              "  </tbody>\n",
              "</table>\n",
              "</div>"
            ],
            "text/plain": [
              "             X        Y     FFMC      DMC  ...       RH     wind     rain     area\n",
              "count 510.0000 510.0000 510.0000 510.0000  ... 510.0000 510.0000 510.0000 510.0000\n",
              "mean    4.6804   4.2941   4.5226 111.8376  ...  44.0294   4.0173   0.0157   1.1214\n",
              "std     2.3205   1.2346   0.0350  63.8537  ...  15.9683   1.7888   0.1244   1.4014\n",
              "min     1.0000   2.0000   4.3320   3.0000  ...  15.0000   0.4000   0.0000   0.0000\n",
              "25%     3.0000   4.0000   4.5142  73.2500  ...  32.2500   2.7000   0.0000   0.0000\n",
              "50%     4.0000   4.0000   4.5288 108.4000  ...  41.5000   4.0000   0.0000   0.4572\n",
              "75%     7.0000   5.0000   4.5422 142.4000  ...  53.0000   4.9000   0.0000   2.0252\n",
              "max     9.0000   9.0000   4.5768 291.3000  ...  99.0000   9.4000   1.0000   6.9956\n",
              "\n",
              "[8 rows x 11 columns]"
            ]
          },
          "metadata": {
            "tags": []
          },
          "execution_count": 92
        }
      ]
    },
    {
      "cell_type": "markdown",
      "metadata": {
        "id": "L0H1DUZSTqCu",
        "colab_type": "text"
      },
      "source": [
        "Dataset is ready for model preparation."
      ]
    },
    {
      "cell_type": "code",
      "metadata": {
        "trusted": true,
        "id": "zwqbWBXhTqCv",
        "colab_type": "code",
        "colab": {}
      },
      "source": [
        "data_sel = data_df.copy()"
      ],
      "execution_count": 0,
      "outputs": []
    },
    {
      "cell_type": "markdown",
      "metadata": {
        "id": "w7ek_-EyTqCx",
        "colab_type": "text"
      },
      "source": [
        "## Applying xgboost"
      ]
    },
    {
      "cell_type": "markdown",
      "metadata": {
        "id": "HPtzjgjqTqCy",
        "colab_type": "text"
      },
      "source": [
        "Encoding `day` & `month` column with label encoder"
      ]
    },
    {
      "cell_type": "code",
      "metadata": {
        "trusted": true,
        "id": "-nLpquReTqCy",
        "colab_type": "code",
        "colab": {}
      },
      "source": [
        "le = LabelEncoder() \n",
        "  \n",
        "data_sel['day']= le.fit_transform(data_sel['day']) \n",
        "data_sel['month']= le.fit_transform(data_sel['month']) "
      ],
      "execution_count": 0,
      "outputs": []
    },
    {
      "cell_type": "code",
      "metadata": {
        "trusted": true,
        "id": "aTrjkc9WTqC1",
        "colab_type": "code",
        "colab": {}
      },
      "source": [
        "X, y = data_sel.iloc[:,:-1],data_sel.iloc[:,-1]"
      ],
      "execution_count": 0,
      "outputs": []
    },
    {
      "cell_type": "code",
      "metadata": {
        "trusted": true,
        "id": "SseS48MKTqC4",
        "colab_type": "code",
        "colab": {}
      },
      "source": [
        "X_train, X_test, y_train, y_test = train_test_split(X, y, test_size=0.33, random_state=7)\n",
        "\n",
        "#X_train, X_test, y_train, y_test = train_test_split(X, y, test_size=0.25, random_state=123)\n"
      ],
      "execution_count": 0,
      "outputs": []
    },
    {
      "cell_type": "markdown",
      "metadata": {
        "id": "GjaMx9RTTqC8",
        "colab_type": "text"
      },
      "source": [
        "Dividing dataset into 33% test sample and 67% training sample ."
      ]
    },
    {
      "cell_type": "code",
      "metadata": {
        "trusted": true,
        "id": "CCXyD39VTqC9",
        "colab_type": "code",
        "colab": {}
      },
      "source": [
        "#xg_reg = xgb.XGBRegressor(objective ='reg:squarederror', colsample_bytree = 0.3, learning_rate = 0.1,\n",
        "#                max_depth = 5, alpha = 10, n_estimators = 10)\n",
        "\n",
        "xg_reg = xgb.XGBRegressor(base_score=0.3, booster='gbtree', colsample_bylevel=1,\n",
        "       colsample_bytree=0.24, gamma=0, learning_rate=0.01, max_delta_step=0,\n",
        "       max_depth=3, min_child_weight=1, missing=None, n_estimators=102,\n",
        "       n_jobs=1, nthread=None, objective='reg:linear', random_state=0,\n",
        "       reg_alpha=0, reg_lambda=1, scale_pos_weight=1, seed=None,\n",
        "       silent=True, subsample=1)\n",
        "\n"
      ],
      "execution_count": 0,
      "outputs": []
    },
    {
      "cell_type": "code",
      "metadata": {
        "trusted": true,
        "id": "xYFqznZlTqDC",
        "colab_type": "code",
        "colab": {}
      },
      "source": [
        "#eval_set = [(X_test, y_test)]\n",
        "eval_set = [(X_train, y_train), (X_test, y_test)]\n",
        "xg_reg.fit(X_train, y_train, eval_metric=[\"rmse\"],eval_set=eval_set, verbose=False)\n",
        "preds = xg_reg.predict(X_test)"
      ],
      "execution_count": 0,
      "outputs": []
    },
    {
      "cell_type": "markdown",
      "metadata": {
        "id": "9ZCNcdzWTqDH",
        "colab_type": "text"
      },
      "source": [
        "#### verbose set to False so that we can hide results of model fit progress"
      ]
    },
    {
      "cell_type": "code",
      "metadata": {
        "trusted": true,
        "id": "v62EXpArTqDH",
        "colab_type": "code",
        "colab": {}
      },
      "source": [
        "def calc_ISE(X_train, y_train, model):\n",
        "    '''returns the in-sample R^2 and RMSE; assumes model already fit.'''\n",
        "    predictions = model.predict(X_train)\n",
        "    mse = mean_squared_error(y_train, predictions)\n",
        "    rmse = np.sqrt(mse)\n",
        "    return model.score(X_train, y_train), rmse\n",
        "    \n",
        "def calc_OSE(X_test, y_test, model):\n",
        "    '''returns the out-of-sample R^2 and RMSE; assumes model already fit.'''\n",
        "    predictions = model.predict(X_test)\n",
        "    mse = mean_squared_error(y_test, predictions)\n",
        "    rmse = np.sqrt(mse)\n",
        "    return model.score(X_test, y_test), rmse\n"
      ],
      "execution_count": 0,
      "outputs": []
    },
    {
      "cell_type": "markdown",
      "metadata": {
        "id": "phvImCRUTqDK",
        "colab_type": "text"
      },
      "source": [
        "**Calculate In-Sample and Out-of-Sample R^2 and Error**"
      ]
    },
    {
      "cell_type": "code",
      "metadata": {
        "trusted": true,
        "id": "0xk7nORdTqDL",
        "colab_type": "code",
        "outputId": "9f63d4a2-1be3-46d8-f0bf-d19458fde046",
        "colab": {
          "base_uri": "https://localhost:8080/",
          "height": 90
        }
      },
      "source": [
        "is_r2, ise = calc_ISE(X_train, y_train,xg_reg )\n",
        "os_r2, ose = calc_OSE(X_test, y_test, xg_reg)\n",
        "\n",
        "# show dataset sizes\n",
        "data_list = (('R^2_in', is_r2), ('R^2_out', os_r2), \n",
        "             ('ISE', ise), ('OSE', ose))\n",
        "for item in data_list:\n",
        "    print('{:10}: {}'.format(item[0], item[1]))"
      ],
      "execution_count": 0,
      "outputs": [
        {
          "output_type": "stream",
          "text": [
            "R^2_in    : 0.04298652222055299\n",
            "R^2_out   : -0.015935882283006464\n",
            "ISE       : 1.3822183772150034\n",
            "OSE       : 1.3821543637297975\n"
          ],
          "name": "stdout"
        }
      ]
    },
    {
      "cell_type": "markdown",
      "metadata": {
        "id": "NwdzbrgXTqDO",
        "colab_type": "text"
      },
      "source": [
        "**Clearly test error(OSE) is near to the training error(ISE). i.e our model is ok.\n",
        "**"
      ]
    },
    {
      "cell_type": "code",
      "metadata": {
        "trusted": true,
        "id": "Fa6CpZQ3TqDO",
        "colab_type": "code",
        "outputId": "fc4fa28f-0505-4471-a6cb-a91210f7eb14",
        "colab": {
          "base_uri": "https://localhost:8080/",
          "height": 35
        }
      },
      "source": [
        "print('train/test: ',ose/ise)"
      ],
      "execution_count": 0,
      "outputs": [
        {
          "output_type": "stream",
          "text": [
            "train/test:  0.9999536878641891\n"
          ],
          "name": "stdout"
        }
      ]
    },
    {
      "cell_type": "code",
      "metadata": {
        "trusted": true,
        "id": "W3WDXDokTqDR",
        "colab_type": "code",
        "outputId": "a132e476-21a1-45f7-d176-70e38db5b4ac",
        "colab": {
          "base_uri": "https://localhost:8080/",
          "height": 35
        }
      },
      "source": [
        "rmse = np.sqrt(mean_squared_error(y_test, preds))\n",
        "print(\"RMSE: %f\" % (rmse))\n"
      ],
      "execution_count": 0,
      "outputs": [
        {
          "output_type": "stream",
          "text": [
            "RMSE: 1.382154\n"
          ],
          "name": "stdout"
        }
      ]
    },
    {
      "cell_type": "code",
      "metadata": {
        "trusted": true,
        "id": "FCDJucPETqDT",
        "colab_type": "code",
        "outputId": "15e3015e-e596-4e87-93f8-0e4f746b675a",
        "colab": {
          "base_uri": "https://localhost:8080/",
          "height": 128
        }
      },
      "source": [
        "xgb.plot_tree(xg_reg,num_trees=0)\n",
        "\n",
        "plt.rcParams['figure.figsize'] = [15, 15]\n",
        "plt.show()\n"
      ],
      "execution_count": 0,
      "outputs": [
        {
          "output_type": "display_data",
          "data": {
            "image/png": "[encoded data removed]",
            "text/plain": [
              "<Figure size 648x360 with 1 Axes>"
            ]
          },
          "metadata": {
            "tags": []
          }
        }
      ]
    },
    {
      "cell_type": "code",
      "metadata": {
        "trusted": true,
        "id": "KYOccF0VTqDV",
        "colab_type": "code",
        "outputId": "51e61769-3ec5-4a39-93cc-7f899a3b8838",
        "colab": {
          "base_uri": "https://localhost:8080/",
          "height": 897
        }
      },
      "source": [
        "xgb.plot_importance(xg_reg)\n",
        "plt.rcParams['figure.figsize'] = [7, 7]\n",
        "plt.show()\n"
      ],
      "execution_count": 0,
      "outputs": [
        {
          "output_type": "display_data",
          "data": {
            "image/png": "[encoded data removed]",
            "text/plain": [
              "<Figure size 1080x1080 with 1 Axes>"
            ]
          },
          "metadata": {
            "tags": []
          }
        }
      ]
    },
    {
      "cell_type": "code",
      "metadata": {
        "trusted": true,
        "id": "1N38LQuNTqDX",
        "colab_type": "code",
        "outputId": "b95499dd-f414-43ed-c6a8-bb748a82e44c",
        "colab": {
          "base_uri": "https://localhost:8080/",
          "height": 445
        }
      },
      "source": [
        "# retrieve performance metrics\n",
        "results = xg_reg.evals_result()\n",
        "epochs = len(results['validation_0']['rmse'])\n",
        "x_axis = range(0, epochs)\n",
        "# plot RMSE\n",
        "fig, ax = plt.subplots()\n",
        "ax.plot(x_axis, results['validation_0']['rmse'], label='Train')\n",
        "ax.plot(x_axis, results['validation_1']['rmse'], label='Test')\n",
        "ax.legend()\n",
        "plt.ylabel('RMSE')\n",
        "plt.title('XGBoost RMSE')\n",
        "plt.show()"
      ],
      "execution_count": 0,
      "outputs": [
        {
          "output_type": "display_data",
          "data": {
            "image/png": "[encoded data removed]",
            "text/plain": [
              "<Figure size 504x504 with 1 Axes>"
            ]
          },
          "metadata": {
            "tags": []
          }
        }
      ]
    },
    {
      "cell_type": "code",
      "metadata": {
        "trusted": true,
        "id": "_9j_sbSfTqDZ",
        "colab_type": "code",
        "colab": {}
      },
      "source": [
        "xg_reg.save_model('0001.model_forest_fire')\n"
      ],
      "execution_count": 0,
      "outputs": []
    },
    {
      "cell_type": "code",
      "metadata": {
        "trusted": true,
        "id": "-YEFN9qNTqDb",
        "colab_type": "code",
        "outputId": "138d0322-a73f-4fab-feb1-6c33087c68bc",
        "colab": {
          "base_uri": "https://localhost:8080/",
          "height": 407
        }
      },
      "source": [
        "X_test"
      ],
      "execution_count": 0,
      "outputs": [
        {
          "output_type": "execute_result",
          "data": {
            "text/html": [
              "<div>\n",
              "<style scoped>\n",
              "    .dataframe tbody tr th:only-of-type {\n",
              "        vertical-align: middle;\n",
              "    }\n",
              "\n",
              "    .dataframe tbody tr th {\n",
              "        vertical-align: top;\n",
              "    }\n",
              "\n",
              "    .dataframe thead th {\n",
              "        text-align: right;\n",
              "    }\n",
              "</style>\n",
              "<table border=\"1\" class=\"dataframe\">\n",
              "  <thead>\n",
              "    <tr style=\"text-align: right;\">\n",
              "      <th></th>\n",
              "      <th>X</th>\n",
              "      <th>Y</th>\n",
              "      <th>month</th>\n",
              "      <th>day</th>\n",
              "      <th>FFMC</th>\n",
              "      <th>DMC</th>\n",
              "      <th>DC</th>\n",
              "      <th>ISI</th>\n",
              "      <th>temp</th>\n",
              "      <th>RH</th>\n",
              "      <th>wind</th>\n",
              "      <th>rain</th>\n",
              "    </tr>\n",
              "  </thead>\n",
              "  <tbody>\n",
              "    <tr>\n",
              "      <th>365</th>\n",
              "      <td>6</td>\n",
              "      <td>5</td>\n",
              "      <td>11</td>\n",
              "      <td>5</td>\n",
              "      <td>4.5315</td>\n",
              "      <td>111.7000</td>\n",
              "      <td>770.3000</td>\n",
              "      <td>2.0149</td>\n",
              "      <td>19.6000</td>\n",
              "      <td>45</td>\n",
              "      <td>3.1000</td>\n",
              "      <td>0</td>\n",
              "    </tr>\n",
              "    <tr>\n",
              "      <th>463</th>\n",
              "      <td>6</td>\n",
              "      <td>5</td>\n",
              "      <td>3</td>\n",
              "      <td>5</td>\n",
              "      <td>4.3320</td>\n",
              "      <td>4.4000</td>\n",
              "      <td>16.2000</td>\n",
              "      <td>1.0647</td>\n",
              "      <td>4.6000</td>\n",
              "      <td>82</td>\n",
              "      <td>6.3000</td>\n",
              "      <td>0</td>\n",
              "    </tr>\n",
              "    <tr>\n",
              "      <th>333</th>\n",
              "      <td>1</td>\n",
              "      <td>4</td>\n",
              "      <td>11</td>\n",
              "      <td>1</td>\n",
              "      <td>4.5337</td>\n",
              "      <td>87.7000</td>\n",
              "      <td>721.1000</td>\n",
              "      <td>2.3514</td>\n",
              "      <td>18.1000</td>\n",
              "      <td>54</td>\n",
              "      <td>3.1000</td>\n",
              "      <td>0</td>\n",
              "    </tr>\n",
              "    <tr>\n",
              "      <th>14</th>\n",
              "      <td>6</td>\n",
              "      <td>5</td>\n",
              "      <td>11</td>\n",
              "      <td>6</td>\n",
              "      <td>4.5422</td>\n",
              "      <td>133.3000</td>\n",
              "      <td>699.6000</td>\n",
              "      <td>2.3224</td>\n",
              "      <td>26.4000</td>\n",
              "      <td>21</td>\n",
              "      <td>4.5000</td>\n",
              "      <td>0</td>\n",
              "    </tr>\n",
              "    <tr>\n",
              "      <th>428</th>\n",
              "      <td>1</td>\n",
              "      <td>3</td>\n",
              "      <td>1</td>\n",
              "      <td>4</td>\n",
              "      <td>4.5623</td>\n",
              "      <td>222.4000</td>\n",
              "      <td>698.6000</td>\n",
              "      <td>2.7014</td>\n",
              "      <td>26.2000</td>\n",
              "      <td>34</td>\n",
              "      <td>5.8000</td>\n",
              "      <td>0</td>\n",
              "    </tr>\n",
              "    <tr>\n",
              "      <th>...</th>\n",
              "      <td>...</td>\n",
              "      <td>...</td>\n",
              "      <td>...</td>\n",
              "      <td>...</td>\n",
              "      <td>...</td>\n",
              "      <td>...</td>\n",
              "      <td>...</td>\n",
              "      <td>...</td>\n",
              "      <td>...</td>\n",
              "      <td>...</td>\n",
              "      <td>...</td>\n",
              "      <td>...</td>\n",
              "    </tr>\n",
              "    <tr>\n",
              "      <th>322</th>\n",
              "      <td>6</td>\n",
              "      <td>5</td>\n",
              "      <td>11</td>\n",
              "      <td>4</td>\n",
              "      <td>4.5412</td>\n",
              "      <td>119.0000</td>\n",
              "      <td>783.5000</td>\n",
              "      <td>2.1401</td>\n",
              "      <td>16.8000</td>\n",
              "      <td>28</td>\n",
              "      <td>4.0000</td>\n",
              "      <td>0</td>\n",
              "    </tr>\n",
              "    <tr>\n",
              "      <th>190</th>\n",
              "      <td>6</td>\n",
              "      <td>5</td>\n",
              "      <td>7</td>\n",
              "      <td>0</td>\n",
              "      <td>4.5240</td>\n",
              "      <td>48.3000</td>\n",
              "      <td>97.8000</td>\n",
              "      <td>2.6027</td>\n",
              "      <td>11.7000</td>\n",
              "      <td>33</td>\n",
              "      <td>4.0000</td>\n",
              "      <td>0</td>\n",
              "    </tr>\n",
              "    <tr>\n",
              "      <th>474</th>\n",
              "      <td>4</td>\n",
              "      <td>3</td>\n",
              "      <td>6</td>\n",
              "      <td>4</td>\n",
              "      <td>4.5433</td>\n",
              "      <td>103.8000</td>\n",
              "      <td>316.7000</td>\n",
              "      <td>2.4681</td>\n",
              "      <td>26.4000</td>\n",
              "      <td>35</td>\n",
              "      <td>2.7000</td>\n",
              "      <td>0</td>\n",
              "    </tr>\n",
              "    <tr>\n",
              "      <th>272</th>\n",
              "      <td>2</td>\n",
              "      <td>5</td>\n",
              "      <td>1</td>\n",
              "      <td>5</td>\n",
              "      <td>4.5337</td>\n",
              "      <td>152.6000</td>\n",
              "      <td>658.2000</td>\n",
              "      <td>2.7279</td>\n",
              "      <td>20.2000</td>\n",
              "      <td>47</td>\n",
              "      <td>4.0000</td>\n",
              "      <td>0</td>\n",
              "    </tr>\n",
              "    <tr>\n",
              "      <th>182</th>\n",
              "      <td>5</td>\n",
              "      <td>4</td>\n",
              "      <td>3</td>\n",
              "      <td>3</td>\n",
              "      <td>4.4751</td>\n",
              "      <td>15.6000</td>\n",
              "      <td>48.3000</td>\n",
              "      <td>1.5892</td>\n",
              "      <td>12.4000</td>\n",
              "      <td>53</td>\n",
              "      <td>2.2000</td>\n",
              "      <td>0</td>\n",
              "    </tr>\n",
              "  </tbody>\n",
              "</table>\n",
              "<p>169 rows × 12 columns</p>\n",
              "</div>"
            ],
            "text/plain": [
              "     X  Y  month  day   FFMC      DMC       DC    ISI    temp  RH   wind  rain\n",
              "365  6  5     11    5 4.5315 111.7000 770.3000 2.0149 19.6000  45 3.1000     0\n",
              "463  6  5      3    5 4.3320   4.4000  16.2000 1.0647  4.6000  82 6.3000     0\n",
              "333  1  4     11    1 4.5337  87.7000 721.1000 2.3514 18.1000  54 3.1000     0\n",
              "14   6  5     11    6 4.5422 133.3000 699.6000 2.3224 26.4000  21 4.5000     0\n",
              "428  1  3      1    4 4.5623 222.4000 698.6000 2.7014 26.2000  34 5.8000     0\n",
              "..  .. ..    ...  ...    ...      ...      ...    ...     ...  ..    ...   ...\n",
              "322  6  5     11    4 4.5412 119.0000 783.5000 2.1401 16.8000  28 4.0000     0\n",
              "190  6  5      7    0 4.5240  48.3000  97.8000 2.6027 11.7000  33 4.0000     0\n",
              "474  4  3      6    4 4.5433 103.8000 316.7000 2.4681 26.4000  35 2.7000     0\n",
              "272  2  5      1    5 4.5337 152.6000 658.2000 2.7279 20.2000  47 4.0000     0\n",
              "182  5  4      3    3 4.4751  15.6000  48.3000 1.5892 12.4000  53 2.2000     0\n",
              "\n",
              "[169 rows x 12 columns]"
            ]
          },
          "metadata": {
            "tags": []
          },
          "execution_count": 107
        }
      ]
    },
    {
      "cell_type": "code",
      "metadata": {
        "id": "LKIF01c5Vn_u",
        "colab_type": "code",
        "colab": {}
      },
      "source": [
        "x = [6]\n",
        "y = [5]\n",
        "MONTH = [8]\n",
        "DAY = [5]\n",
        "ffmc = [4.500]\n",
        "dmc = [111.700]\n",
        "dc = [770.300]\n",
        "ısı = [2.000]\n",
        "TEMP = [19.600]\n",
        "rh = [45]\n",
        "WİND = [3.100]\n",
        "RAİN = [0]\n",
        "plan1=200\n",
        "plan2=300"
      ],
      "execution_count": 0,
      "outputs": []
    },
    {
      "cell_type": "code",
      "metadata": {
        "id": "d1Ol6tiBXYL3",
        "colab_type": "code",
        "colab": {}
      },
      "source": [
        "pd.DataFrame(x,columns=[\"X\"])\n",
        "pd.DataFrame(y,columns=[\"Y\"])\n",
        "pd.DataFrame(MONTH,columns=[\"month\"])\n",
        "pd.DataFrame(DAY,columns=[\"day\"])\n",
        "pd.DataFrame(ffmc,columns=[\"FFMC\"])\n",
        "pd.DataFrame(dmc,columns=[\"DMC\"])\n",
        "pd.DataFrame(dc,columns=[\"DC\"])\n",
        "pd.DataFrame(ısı,columns=[\"ISI\"])\n",
        "pd.DataFrame(TEMP,columns=[\"temp\"])\n",
        "pd.DataFrame(rh,columns=[\"RH\"])\n",
        "pd.DataFrame(WİND,columns=[\"wind\"])\n",
        "pd.DataFrame(RAİN,columns=[\"rain\"])\n",
        "veri= pd.DataFrame({\"X\":x,\n",
        "              \"Y\":y,\n",
        "              \"month\":MONTH,\n",
        "              \"day\":DAY,\n",
        "              \"FFMC\":ffmc,\n",
        "              \"DMC\":dmc,\n",
        "              \"DC\":dc,\n",
        "              \"ISI\":ısı,\n",
        "              \"temp\":TEMP,\n",
        "              \"RH\":rh,\n",
        "              \"wind\":WİND,\n",
        "              \"rain\":RAİN}\n",
        "              )\n"
      ],
      "execution_count": 0,
      "outputs": []
    },
    {
      "cell_type": "code",
      "metadata": {
        "id": "wt5IT5XnaWB9",
        "colab_type": "code",
        "outputId": "91323dd1-477b-42d4-87e8-6b2ea7038ab2",
        "colab": {
          "base_uri": "https://localhost:8080/",
          "height": 145
        }
      },
      "source": [
        "print(\"Bölgede Beklenen Yangın Hacmi(ha): \"+str(xg_reg.predict(veri)))\n",
        "print(\"Gereken Minimum Üretim Miktarı Yaklaşık: \"+str(int(xg_reg.predict(veri)*plan1  )))\n",
        "print(\"Gereken Maximum Üretim Miktarı Yaklaşık: \"+str(int(xg_reg.predict(veri)*plan2  )))\n",
        "print(\"\\n\\n\")\n",
        "print(\"Gereken Amonyumlu çözelti miktarı yaklaşık(kg): \"+str(int(xg_reg.predict(veri)*110 )))"
      ],
      "execution_count": 0,
      "outputs": [
        {
          "output_type": "stream",
          "text": [
            "Bölgede Beklenen Yangın Hacmi(ha): [0.8312642]\n",
            "Gereken Minimum Üretim Miktarı Yaklaşık: 166\n",
            "Gereken Maximum Üretim Miktarı Yaklaşık: 249\n",
            "\n",
            "\n",
            "\n",
            "Gereken Amonyumlu çözelti miktarı yaklaşık(kg): 91\n"
          ],
          "name": "stdout"
        }
      ]
    },
    {
      "cell_type": "code",
      "metadata": {
        "id": "HNeR_u45kTpX",
        "colab_type": "code",
        "colab": {}
      },
      "source": [
        ""
      ],
      "execution_count": 0,
      "outputs": []
    }
  ]
}